{
 "cells": [
  {
   "cell_type": "markdown",
   "id": "2711f890",
   "metadata": {},
   "source": [
    "# Importar libreria de selenium"
   ]
  },
  {
   "cell_type": "code",
   "execution_count": 1,
   "id": "23d994d6-eb25-4288-93b9-ac82648b965d",
   "metadata": {},
   "outputs": [],
   "source": [
    "from selenium import webdriver"
   ]
  },
  {
   "cell_type": "markdown",
   "id": "f7e435de",
   "metadata": {},
   "source": [
    "### Instanciar el driver"
   ]
  },
  {
   "cell_type": "code",
   "execution_count": 7,
   "id": "2a9f2e0a-1357-43ed-87cb-d7ae0407d11c",
   "metadata": {},
   "outputs": [],
   "source": [
    "driver = webdriver.Chrome()\n",
    "url = \"https://www.deepl.com/translator\"\n",
    "driver.get(url)"
   ]
  },
  {
   "cell_type": "code",
   "execution_count": null,
   "metadata": {},
   "outputs": [],
   "source": []
  }
 ],
 "metadata": {
  "kernelspec": {
   "display_name": "env",
   "language": "python",
   "name": "python3"
  },
  "language_info": {
   "codemirror_mode": {
    "name": "ipython",
    "version": 3
   },
   "file_extension": ".py",
   "mimetype": "text/x-python",
   "name": "python",
   "nbconvert_exporter": "python",
   "pygments_lexer": "ipython3",
   "version": "3.11.5"
  }
 },
 "nbformat": 4,
 "nbformat_minor": 5
}
