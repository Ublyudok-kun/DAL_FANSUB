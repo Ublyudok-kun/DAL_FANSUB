{
 "cells": [
  {
   "cell_type": "markdown",
   "id": "2711f890",
   "metadata": {},
   "source": [
    "# Importar libreria de selenium"
   ]
  },
  {
   "cell_type": "code",
   "execution_count": 1,
   "id": "23d994d6-eb25-4288-93b9-ac82648b965d",
   "metadata": {},
   "outputs": [],
   "source": [
    "from selenium import webdriver\n",
    "from selenium.webdriver.common.by import By\n",
    "import pyautogui"
   ]
  },
  {
   "cell_type": "markdown",
   "id": "f7e435de",
   "metadata": {},
   "source": [
    "### Instanciar el driver"
   ]
  },
  {
   "cell_type": "code",
   "execution_count": 2,
   "id": "2a9f2e0a-1357-43ed-87cb-d7ae0407d11c",
   "metadata": {},
   "outputs": [],
   "source": [
    "driver = webdriver.Chrome()\n",
    "url = \"https://www.deepl.com/translator\"\n",
    "driver.get(url)"
   ]
  },
  {
   "cell_type": "markdown",
   "id": "2931b624",
   "metadata": {},
   "source": [
    "### Buscar cuadro de texto"
   ]
  },
  {
   "cell_type": "code",
   "execution_count": 27,
   "id": "63ab943f",
   "metadata": {},
   "outputs": [],
   "source": [
    "text_field = driver.find_element(By.XPATH, '/html/body/div[3]/main/div[5]/div[1]/div[2]/section[1]/div[3]/div[2]/d-textarea/div')"
   ]
  },
  {
   "cell_type": "markdown",
   "id": "2acd7b1d",
   "metadata": {},
   "source": [
    "### Buscar boton copiar \"Funciona solo cuando se escribe texto\""
   ]
  },
  {
   "cell_type": "code",
   "execution_count": 30,
   "id": "d3412922",
   "metadata": {},
   "outputs": [],
   "source": [
    "# copiar = driver.find_element(By.XPATH, '/html/body/div[3]/main/div[5]/div[1]/div[2]/section[2]/div[3]/div[6]/div/div[5]/span[2]/span/span/button')"
   ]
  },
  {
   "cell_type": "markdown",
   "id": "bae99ce3-ca67-4b56-a07f-fb0873a75a4c",
   "metadata": {},
   "source": [
    "### Abrir guiones"
   ]
  },
  {
   "cell_type": "code",
   "execution_count": null,
   "id": "0f5518c0-2025-4c98-b175-8ffca0765d50",
   "metadata": {},
   "outputs": [],
   "source": [
    "import pandas as pd\n",
    "\n",
    "df = pd.rea"
   ]
  }
 ],
 "metadata": {
  "kernelspec": {
   "display_name": "env",
   "language": "python",
   "name": "env"
  },
  "language_info": {
   "codemirror_mode": {
    "name": "ipython",
    "version": 3
   },
   "file_extension": ".py",
   "mimetype": "text/x-python",
   "name": "python",
   "nbconvert_exporter": "python",
   "pygments_lexer": "ipython3",
   "version": "3.11.5"
  }
 },
 "nbformat": 4,
 "nbformat_minor": 5
}
