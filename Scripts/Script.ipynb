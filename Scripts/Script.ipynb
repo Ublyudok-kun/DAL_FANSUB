{
 "cells": [
  {
   "cell_type": "markdown",
   "id": "fe390679",
   "metadata": {},
   "source": [
    "# Importar librerias"
   ]
  },
  {
   "cell_type": "code",
   "execution_count": 1,
   "id": "c34f8c75",
   "metadata": {},
   "outputs": [],
   "source": [
    "import deepl\n",
    "import pandas as pd\n",
    "import os"
   ]
  },
  {
   "cell_type": "markdown",
   "id": "cdd4ee0a",
   "metadata": {},
   "source": [
    "# Abrir dialogos originales"
   ]
  },
  {
   "cell_type": "code",
   "execution_count": 2,
   "id": "a361ee3e",
   "metadata": {},
   "outputs": [
    {
     "data": {
      "text/html": [
       "<div>\n",
       "<style scoped>\n",
       "    .dataframe tbody tr th:only-of-type {\n",
       "        vertical-align: middle;\n",
       "    }\n",
       "\n",
       "    .dataframe tbody tr th {\n",
       "        vertical-align: top;\n",
       "    }\n",
       "\n",
       "    .dataframe thead th {\n",
       "        text-align: right;\n",
       "    }\n",
       "</style>\n",
       "<table border=\"1\" class=\"dataframe\">\n",
       "  <thead>\n",
       "    <tr style=\"text-align: right;\">\n",
       "      <th></th>\n",
       "      <th>Operator</th>\n",
       "      <th>Comment</th>\n",
       "      <th>Key</th>\n",
       "      <th>Translation</th>\n",
       "    </tr>\n",
       "  </thead>\n",
       "  <tbody>\n",
       "    <tr>\n",
       "      <th>0</th>\n",
       "      <td>Choice</td>\n",
       "      <td>NaN</td>\n",
       "      <td>Start from the prologue.</td>\n",
       "      <td>NaN</td>\n",
       "    </tr>\n",
       "    <tr>\n",
       "      <th>1</th>\n",
       "      <td>Choice</td>\n",
       "      <td>NaN</td>\n",
       "      <td>Skip the prologue.</td>\n",
       "      <td>NaN</td>\n",
       "    </tr>\n",
       "    <tr>\n",
       "      <th>2</th>\n",
       "      <td>Message</td>\n",
       "      <td>NaN</td>\n",
       "      <td>(The moment I opened the door to the rooftop,\\...</td>\n",
       "      <td>NaN</td>\n",
       "    </tr>\n",
       "    <tr>\n",
       "      <th>3</th>\n",
       "      <td>Message</td>\n",
       "      <td>Tohka</td>\n",
       "      <td>Sh-Shido...?!</td>\n",
       "      <td>NaN</td>\n",
       "    </tr>\n",
       "    <tr>\n",
       "      <th>4</th>\n",
       "      <td>Message</td>\n",
       "      <td>NaN</td>\n",
       "      <td>(I turned around, and there stood the girl I w...</td>\n",
       "      <td>NaN</td>\n",
       "    </tr>\n",
       "  </tbody>\n",
       "</table>\n",
       "</div>"
      ],
      "text/plain": [
       "  Operator Comment                                                Key  \\\n",
       "0   Choice     NaN                           Start from the prologue.   \n",
       "1   Choice     NaN                                 Skip the prologue.   \n",
       "2  Message     NaN  (The moment I opened the door to the rooftop,\\...   \n",
       "3  Message   Tohka                                      Sh-Shido...?!   \n",
       "4  Message     NaN  (I turned around, and there stood the girl I w...   \n",
       "\n",
       "   Translation  \n",
       "0          NaN  \n",
       "1          NaN  \n",
       "2          NaN  \n",
       "3          NaN  \n",
       "4          NaN  "
      ]
     },
     "execution_count": 2,
     "metadata": {},
     "output_type": "execute_result"
    }
   ],
   "source": [
    "df = pd.read_csv(\"../Rinnes_Utopia_files/Originales/1st/start01.tsv\", delimiter=\"\\t\")\n",
    "df.head()"
   ]
  },
  {
   "cell_type": "markdown",
   "id": "77133916",
   "metadata": {},
   "source": [
    "# Crear lista con los dialogos"
   ]
  },
  {
   "cell_type": "code",
   "execution_count": 3,
   "id": "9d07981e",
   "metadata": {},
   "outputs": [],
   "source": [
    "Dialogos = df['Key']"
   ]
  },
  {
   "cell_type": "markdown",
   "id": "2ee8b043",
   "metadata": {},
   "source": [
    "# Traducir dialogos con deepl\n"
   ]
  },
  {
   "cell_type": "markdown",
   "id": "a1e03e21",
   "metadata": {},
   "source": [
    "# !!Don't Touch!!"
   ]
  },
  {
   "cell_type": "code",
   "execution_count": 5,
   "id": "52e71e12",
   "metadata": {},
   "outputs": [],
   "source": [
    "auth_key = \"894818a4-a49a-6b8c-e1c6-8ccd29cbf5b3:fx\"\n",
    "translator = deepl.Translator(auth_key)"
   ]
  },
  {
   "cell_type": "markdown",
   "id": "b9bff46b",
   "metadata": {},
   "source": [
    "# Obtener Lista con los dialogos"
   ]
  },
  {
   "cell_type": "code",
   "execution_count": null,
   "id": "f221d10a",
   "metadata": {},
   "outputs": [],
   "source": [
    "Dialogos_Traducidos = []\n",
    "\n",
    "for i in Dialogos:\n",
    "    result = translator.translate_text(str(i), target_lang=\"ES\")\n",
    "    Dialogos_Traducidos.append(result)\n",
    "    print(result.text)"
   ]
  },
  {
   "cell_type": "markdown",
   "id": "a88ede13",
   "metadata": {},
   "source": [
    "# Agregar dialogos con los traducidos"
   ]
  },
  {
   "cell_type": "code",
   "execution_count": null,
   "id": "0d1a7a02",
   "metadata": {},
   "outputs": [],
   "source": [
    "for i in range(0,len(Dialogos_Traducidos)):\n",
    "    df.iloc[i,3] = str(Dialogos_Traducidos[i])\n",
    "df.head()"
   ]
  },
  {
   "cell_type": "markdown",
   "id": "514075e7",
   "metadata": {},
   "source": [
    "# Exportar a .TSV"
   ]
  },
  {
   "cell_type": "code",
   "execution_count": 53,
   "id": "39f0a345",
   "metadata": {},
   "outputs": [],
   "source": [
    "ruta_guardado = \"../Rinnes_Utopia_files/Traducidos/1st/start01.tsv\"\n",
    "df.to_csv(ruta_guardado, sep=\"\\t\", index=False)"
   ]
  },
  {
   "cell_type": "markdown",
   "id": "c098bf48",
   "metadata": {},
   "source": [
    "# END ------------------------------------------------------------"
   ]
  }
 ],
 "metadata": {
  "kernelspec": {
   "display_name": "env",
   "language": "python",
   "name": "env"
  },
  "language_info": {
   "codemirror_mode": {
    "name": "ipython",
    "version": 3
   },
   "file_extension": ".py",
   "mimetype": "text/x-python",
   "name": "python",
   "nbconvert_exporter": "python",
   "pygments_lexer": "ipython3",
   "version": "3.11.5"
  }
 },
 "nbformat": 4,
 "nbformat_minor": 5
}
