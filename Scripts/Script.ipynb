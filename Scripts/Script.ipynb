{
 "cells": [
  {
   "cell_type": "markdown",
   "id": "fe390679",
   "metadata": {},
   "source": [
    "# Importar librerias"
   ]
  },
  {
   "cell_type": "code",
   "execution_count": 1,
   "id": "c34f8c75",
   "metadata": {},
   "outputs": [],
   "source": [
    "import deepl\n",
    "import pandas as pd\n",
    "import os"
   ]
  },
  {
   "cell_type": "markdown",
   "id": "cdd4ee0a",
   "metadata": {},
   "source": [
    "# Abrir dialogos originales"
   ]
  },
  {
   "cell_type": "code",
   "execution_count": 2,
   "id": "a361ee3e",
   "metadata": {},
   "outputs": [
    {
     "data": {
      "text/html": [
       "<div>\n",
       "<style scoped>\n",
       "    .dataframe tbody tr th:only-of-type {\n",
       "        vertical-align: middle;\n",
       "    }\n",
       "\n",
       "    .dataframe tbody tr th {\n",
       "        vertical-align: top;\n",
       "    }\n",
       "\n",
       "    .dataframe thead th {\n",
       "        text-align: right;\n",
       "    }\n",
       "</style>\n",
       "<table border=\"1\" class=\"dataframe\">\n",
       "  <thead>\n",
       "    <tr style=\"text-align: right;\">\n",
       "      <th></th>\n",
       "      <th>Operator</th>\n",
       "      <th>Comment</th>\n",
       "      <th>Key</th>\n",
       "      <th>Translation</th>\n",
       "    </tr>\n",
       "  </thead>\n",
       "  <tbody>\n",
       "    <tr>\n",
       "      <th>0</th>\n",
       "      <td>Choice</td>\n",
       "      <td>NaN</td>\n",
       "      <td>Start from the prologue.</td>\n",
       "      <td>NaN</td>\n",
       "    </tr>\n",
       "    <tr>\n",
       "      <th>1</th>\n",
       "      <td>Choice</td>\n",
       "      <td>NaN</td>\n",
       "      <td>Skip the prologue.</td>\n",
       "      <td>NaN</td>\n",
       "    </tr>\n",
       "    <tr>\n",
       "      <th>2</th>\n",
       "      <td>Message</td>\n",
       "      <td>NaN</td>\n",
       "      <td>(The moment I opened the door to the rooftop,\\...</td>\n",
       "      <td>NaN</td>\n",
       "    </tr>\n",
       "    <tr>\n",
       "      <th>3</th>\n",
       "      <td>Message</td>\n",
       "      <td>Tohka</td>\n",
       "      <td>Sh-Shido...?!</td>\n",
       "      <td>NaN</td>\n",
       "    </tr>\n",
       "    <tr>\n",
       "      <th>4</th>\n",
       "      <td>Message</td>\n",
       "      <td>NaN</td>\n",
       "      <td>(I turned around, and there stood the girl I w...</td>\n",
       "      <td>NaN</td>\n",
       "    </tr>\n",
       "  </tbody>\n",
       "</table>\n",
       "</div>"
      ],
      "text/plain": [
       "  Operator Comment                                                Key  \\\n",
       "0   Choice     NaN                           Start from the prologue.   \n",
       "1   Choice     NaN                                 Skip the prologue.   \n",
       "2  Message     NaN  (The moment I opened the door to the rooftop,\\...   \n",
       "3  Message   Tohka                                      Sh-Shido...?!   \n",
       "4  Message     NaN  (I turned around, and there stood the girl I w...   \n",
       "\n",
       "   Translation  \n",
       "0          NaN  \n",
       "1          NaN  \n",
       "2          NaN  \n",
       "3          NaN  \n",
       "4          NaN  "
      ]
     },
     "execution_count": 2,
     "metadata": {},
     "output_type": "execute_result"
    }
   ],
   "source": [
    "df = pd.read_csv(\"../Rinnes_Utopia_files/Originales/1st/start01.tsv\", delimiter=\"\\t\")\n",
    "df.head()"
   ]
  },
  {
   "cell_type": "markdown",
   "id": "77133916",
   "metadata": {},
   "source": [
    "# Crear lista con los dialogos"
   ]
  },
  {
   "cell_type": "code",
   "execution_count": 3,
   "id": "9d07981e",
   "metadata": {},
   "outputs": [],
   "source": [
    "Dialogos = df['Key']"
   ]
  },
  {
   "cell_type": "markdown",
   "id": "530f6726",
   "metadata": {},
   "source": [
    "# Crear copia del Df para el traducido"
   ]
  },
  {
   "cell_type": "code",
   "execution_count": 4,
   "id": "fd014c1f",
   "metadata": {},
   "outputs": [],
   "source": [
    "df_trans = df.copy()"
   ]
  },
  {
   "cell_type": "markdown",
   "id": "2ee8b043",
   "metadata": {},
   "source": [
    "# Traducir dialogos con deepl\n"
   ]
  },
  {
   "cell_type": "markdown",
   "id": "a1e03e21",
   "metadata": {},
   "source": [
    "# !!Don't Touch!!"
   ]
  },
  {
   "cell_type": "code",
   "execution_count": 5,
   "id": "52e71e12",
   "metadata": {},
   "outputs": [],
   "source": [
    "auth_key = \"894818a4-a49a-6b8c-e1c6-8ccd29cbf5b3:fx\"\n",
    "translator = deepl.Translator(auth_key)"
   ]
  },
  {
   "cell_type": "markdown",
   "id": "b9bff46b",
   "metadata": {},
   "source": [
    "# Obtener Lista con los dialogos"
   ]
  },
  {
   "cell_type": "code",
   "execution_count": 6,
   "id": "f221d10a",
   "metadata": {},
   "outputs": [
    {
     "name": "stdout",
     "output_type": "stream",
     "text": [
      "Empieza por el prólogo.\n",
      "Sáltate el prólogo.\n",
      "(En el momento en que abrí la puerta de la azotea,\n",
      "supe que ya estaba empezando. Sentí\n",
      "cosquilleo del aire tenso).\n",
      "¡¿Sh-Shido...?!\n",
      "(Me di la vuelta, y allí estaba la chica que estaba\n",
      "buscando, justo más allá de mi mirada. Allí estaba\n",
      "Tohka).\n",
      "¡T-Tohka!\n",
      "(Su vestido astral resplandecía, y una neblina\n",
      "de luz púrpura salía de su cuerpo).\n",
      "Sh-Shido... R-Run...!\n",
      "¡No hay manera de que pueda!\n",
      "(Quizá pueda hacer algo. Si es...)\n",
      "(-?!)\n",
      "(Intenté correr, pero mi cuerpo no me hizo caso).\n",
      "(La luz fantasmal del cuerpo de Tohka\n",
      "cargó contra mí).\n",
      "*¡Grunt*!\n",
      "(En ese momento, una intensa gravedad me apretó los pulmones, como si cayera en picado al mar.\n",
      "pulmones, como si cayera en picado a las profundidades del mar).\n",
      "(Pero no dejaría de moverme).\n",
      "(Soportando el peso, di un paso para llegar\n",
      "a Tohka. Luego otro).\n",
      "(-?!)\n",
      "(Sentí una fuerte sensación de poder\n",
      "dentro de mí).\n",
      "(Pero adónde iba...)\n",
      "No puedes venir... Si estás conmigo,\n",
      "incluso tú...\n",
      "(Tohka llevaba una gran espada impropia de\n",
      "su magnífico vestido. El sándalo atravesaba el\n",
      "suelo mientras ella se aferraba a él, su cuerpo temblando).\n",
      "(Su hermoso cabello era oscuro como la noche. Un rostro\n",
      "de muñeca delataba signos de dolor, como si hubiera soportado\n",
      "algo severo).\n",
      "Aunque no me quieras...\n",
      "(Me acerco lentamente a Tohka, luchando por caminar).\n",
      "I... Nunca te dejaré sola.\n",
      "¡Shido...! ¡Yo... no... quiero... matarte!\n",
      "(La tristeza se apoderó de ella y gritó de una manera que yo\n",
      "increíble. El aura que emanaba de su cuerpo\n",
      "era aún más fuerte que antes).\n",
      "¡T-TOHKA!\n",
      "(Si vacilara aunque fuera un poco, la luz\n",
      "me lanzaría por los aires. Me resistí y\n",
      "extendí mi brazo hacia Tohka).\n",
      "¡SHI...DO...!\n",
      "(La expresión de Tohka estaba llena de desesperación).\n",
      "(En ese momento, sentí que me invadía una fuerza.\n",
      "No tenía ni idea de dónde venía).\n",
      "(Sandalphon, agarrado en las manos de Tohka, parecía\n",
      "responder a ella. De repente emitió una poderosa\n",
      "luz floreciente.)\n",
      "(A este paso, Tohka...)\n",
      "¡TOHHKAAAAAAAAAA!\n",
      "¡SHIDOOOOOO!\n",
      "(Mientras el sonido del grito de Tohka resonaba en mis oídos,\n",
      "mi visión se volvió blanca, y mi conciencia fue\n",
      "cortada.)\n"
     ]
    }
   ],
   "source": [
    "Dialogos_Traducidos = []\n",
    "\n",
    "for i in Dialogos:\n",
    "    result = translator.translate_text(i, target_lang=\"ES\")\n",
    "    Dialogos_Traducidos.append(result)\n",
    "    print(result.text)"
   ]
  },
  {
   "cell_type": "code",
   "execution_count": 54,
   "id": "04a4b0fa",
   "metadata": {},
   "outputs": [
    {
     "data": {
      "text/html": [
       "<div>\n",
       "<style scoped>\n",
       "    .dataframe tbody tr th:only-of-type {\n",
       "        vertical-align: middle;\n",
       "    }\n",
       "\n",
       "    .dataframe tbody tr th {\n",
       "        vertical-align: top;\n",
       "    }\n",
       "\n",
       "    .dataframe thead th {\n",
       "        text-align: right;\n",
       "    }\n",
       "</style>\n",
       "<table border=\"1\" class=\"dataframe\">\n",
       "  <thead>\n",
       "    <tr style=\"text-align: right;\">\n",
       "      <th></th>\n",
       "      <th>Operator</th>\n",
       "      <th>Comment</th>\n",
       "      <th>Key</th>\n",
       "      <th>Translation</th>\n",
       "    </tr>\n",
       "  </thead>\n",
       "  <tbody>\n",
       "    <tr>\n",
       "      <th>0</th>\n",
       "      <td>Choice</td>\n",
       "      <td>NaN</td>\n",
       "      <td>Empieza por el prólogo.</td>\n",
       "      <td>NaN</td>\n",
       "    </tr>\n",
       "    <tr>\n",
       "      <th>1</th>\n",
       "      <td>Choice</td>\n",
       "      <td>NaN</td>\n",
       "      <td>Sáltate el prólogo.</td>\n",
       "      <td>NaN</td>\n",
       "    </tr>\n",
       "    <tr>\n",
       "      <th>2</th>\n",
       "      <td>Message</td>\n",
       "      <td>NaN</td>\n",
       "      <td>(En el momento en que abrí la puerta de la azo...</td>\n",
       "      <td>NaN</td>\n",
       "    </tr>\n",
       "    <tr>\n",
       "      <th>3</th>\n",
       "      <td>Message</td>\n",
       "      <td>Tohka</td>\n",
       "      <td>¡¿Sh-Shido...?!</td>\n",
       "      <td>NaN</td>\n",
       "    </tr>\n",
       "    <tr>\n",
       "      <th>4</th>\n",
       "      <td>Message</td>\n",
       "      <td>NaN</td>\n",
       "      <td>(Me di la vuelta, y allí estaba la chica que e...</td>\n",
       "      <td>NaN</td>\n",
       "    </tr>\n",
       "  </tbody>\n",
       "</table>\n",
       "</div>"
      ],
      "text/plain": [
       "  Operator Comment                                                Key  \\\n",
       "0   Choice     NaN                            Empieza por el prólogo.   \n",
       "1   Choice     NaN                                Sáltate el prólogo.   \n",
       "2  Message     NaN  (En el momento en que abrí la puerta de la azo...   \n",
       "3  Message   Tohka                                    ¡¿Sh-Shido...?!   \n",
       "4  Message     NaN  (Me di la vuelta, y allí estaba la chica que e...   \n",
       "\n",
       "   Translation  \n",
       "0          NaN  \n",
       "1          NaN  \n",
       "2          NaN  \n",
       "3          NaN  \n",
       "4          NaN  "
      ]
     },
     "execution_count": 54,
     "metadata": {},
     "output_type": "execute_result"
    }
   ],
   "source": [
    "df_trans.head()"
   ]
  },
  {
   "cell_type": "code",
   "execution_count": 30,
   "id": "754dff12",
   "metadata": {},
   "outputs": [],
   "source": [
    "df_trans.iloc[2,2] = \"Hola como estas\""
   ]
  },
  {
   "cell_type": "markdown",
   "id": "a88ede13",
   "metadata": {},
   "source": [
    "# Reemplazar dialogos con los traducidos"
   ]
  },
  {
   "cell_type": "code",
   "execution_count": 48,
   "id": "0d1a7a02",
   "metadata": {},
   "outputs": [
    {
     "name": "stdout",
     "output_type": "stream",
     "text": [
      "Empieza por el prólogo.\n",
      "Sáltate el prólogo.\n",
      "(En el momento en que abrí la puerta de la azotea,\n",
      "supe que ya estaba empezando. Sentí\n",
      "cosquilleo del aire tenso).\n",
      "¡¿Sh-Shido...?!\n",
      "(Me di la vuelta, y allí estaba la chica que estaba\n",
      "buscando, justo más allá de mi mirada. Allí estaba\n",
      "Tohka).\n",
      "¡T-Tohka!\n",
      "(Su vestido astral resplandecía, y una neblina\n",
      "de luz púrpura salía de su cuerpo).\n",
      "Sh-Shido... R-Run...!\n",
      "¡No hay manera de que pueda!\n",
      "(Quizá pueda hacer algo. Si es...)\n",
      "(-?!)\n",
      "(Intenté correr, pero mi cuerpo no me hizo caso).\n",
      "(La luz fantasmal del cuerpo de Tohka\n",
      "cargó contra mí).\n",
      "*¡Grunt*!\n",
      "(En ese momento, una intensa gravedad me apretó los pulmones, como si cayera en picado al mar.\n",
      "pulmones, como si cayera en picado a las profundidades del mar).\n",
      "(Pero no dejaría de moverme).\n",
      "(Soportando el peso, di un paso para llegar\n",
      "a Tohka. Luego otro).\n",
      "(-?!)\n",
      "(Sentí una fuerte sensación de poder\n",
      "dentro de mí).\n",
      "(Pero adónde iba...)\n",
      "No puedes venir... Si estás conmigo,\n",
      "incluso tú...\n",
      "(Tohka llevaba una gran espada impropia de\n",
      "su magnífico vestido. El sándalo atravesaba el\n",
      "suelo mientras ella se aferraba a él, su cuerpo temblando).\n",
      "(Su hermoso cabello era oscuro como la noche. Un rostro\n",
      "de muñeca delataba signos de dolor, como si hubiera soportado\n",
      "algo severo).\n",
      "Aunque no me quieras...\n",
      "(Me acerco lentamente a Tohka, luchando por caminar).\n",
      "I... Nunca te dejaré sola.\n",
      "¡Shido...! ¡Yo... no... quiero... matarte!\n",
      "(La tristeza se apoderó de ella y gritó de una manera que yo\n",
      "increíble. El aura que emanaba de su cuerpo\n",
      "era aún más fuerte que antes).\n",
      "¡T-TOHKA!\n",
      "(Si vacilara aunque fuera un poco, la luz\n",
      "me lanzaría por los aires. Me resistí y\n",
      "extendí mi brazo hacia Tohka).\n",
      "¡SHI...DO...!\n",
      "(La expresión de Tohka estaba llena de desesperación).\n",
      "(En ese momento, sentí que me invadía una fuerza.\n",
      "No tenía ni idea de dónde venía).\n",
      "(Sandalphon, agarrado en las manos de Tohka, parecía\n",
      "responder a ella. De repente emitió una poderosa\n",
      "luz floreciente.)\n",
      "(A este paso, Tohka...)\n",
      "¡TOHHKAAAAAAAAAA!\n",
      "¡SHIDOOOOOO!\n",
      "(Mientras el sonido del grito de Tohka resonaba en mis oídos,\n",
      "mi visión se volvió blanca, y mi conciencia fue\n",
      "cortada.)\n"
     ]
    }
   ],
   "source": [
    "for i in range(0,len(Dialogos_Traducidos)):\n",
    "    df_trans.iloc[i,2] = str(Dialogos_Traducidos[i])\n",
    "    print(df_trans.iloc[i,2])"
   ]
  },
  {
   "cell_type": "code",
   "execution_count": 49,
   "id": "274552e6",
   "metadata": {},
   "outputs": [
    {
     "data": {
      "text/html": [
       "<div>\n",
       "<style scoped>\n",
       "    .dataframe tbody tr th:only-of-type {\n",
       "        vertical-align: middle;\n",
       "    }\n",
       "\n",
       "    .dataframe tbody tr th {\n",
       "        vertical-align: top;\n",
       "    }\n",
       "\n",
       "    .dataframe thead th {\n",
       "        text-align: right;\n",
       "    }\n",
       "</style>\n",
       "<table border=\"1\" class=\"dataframe\">\n",
       "  <thead>\n",
       "    <tr style=\"text-align: right;\">\n",
       "      <th></th>\n",
       "      <th>Operator</th>\n",
       "      <th>Comment</th>\n",
       "      <th>Key</th>\n",
       "      <th>Translation</th>\n",
       "    </tr>\n",
       "  </thead>\n",
       "  <tbody>\n",
       "    <tr>\n",
       "      <th>0</th>\n",
       "      <td>Choice</td>\n",
       "      <td>NaN</td>\n",
       "      <td>Empieza por el prólogo.</td>\n",
       "      <td>NaN</td>\n",
       "    </tr>\n",
       "    <tr>\n",
       "      <th>1</th>\n",
       "      <td>Choice</td>\n",
       "      <td>NaN</td>\n",
       "      <td>Sáltate el prólogo.</td>\n",
       "      <td>NaN</td>\n",
       "    </tr>\n",
       "    <tr>\n",
       "      <th>2</th>\n",
       "      <td>Message</td>\n",
       "      <td>NaN</td>\n",
       "      <td>(En el momento en que abrí la puerta de la azo...</td>\n",
       "      <td>NaN</td>\n",
       "    </tr>\n",
       "    <tr>\n",
       "      <th>3</th>\n",
       "      <td>Message</td>\n",
       "      <td>Tohka</td>\n",
       "      <td>¡¿Sh-Shido...?!</td>\n",
       "      <td>NaN</td>\n",
       "    </tr>\n",
       "    <tr>\n",
       "      <th>4</th>\n",
       "      <td>Message</td>\n",
       "      <td>NaN</td>\n",
       "      <td>(Me di la vuelta, y allí estaba la chica que e...</td>\n",
       "      <td>NaN</td>\n",
       "    </tr>\n",
       "  </tbody>\n",
       "</table>\n",
       "</div>"
      ],
      "text/plain": [
       "  Operator Comment                                                Key  \\\n",
       "0   Choice     NaN                            Empieza por el prólogo.   \n",
       "1   Choice     NaN                                Sáltate el prólogo.   \n",
       "2  Message     NaN  (En el momento en que abrí la puerta de la azo...   \n",
       "3  Message   Tohka                                    ¡¿Sh-Shido...?!   \n",
       "4  Message     NaN  (Me di la vuelta, y allí estaba la chica que e...   \n",
       "\n",
       "   Translation  \n",
       "0          NaN  \n",
       "1          NaN  \n",
       "2          NaN  \n",
       "3          NaN  \n",
       "4          NaN  "
      ]
     },
     "execution_count": 49,
     "metadata": {},
     "output_type": "execute_result"
    }
   ],
   "source": [
    "df_trans.head()"
   ]
  },
  {
   "cell_type": "markdown",
   "id": "514075e7",
   "metadata": {},
   "source": [
    "# Exportar a .TSV"
   ]
  },
  {
   "cell_type": "code",
   "execution_count": 53,
   "id": "39f0a345",
   "metadata": {},
   "outputs": [],
   "source": [
    "ruta_guardado = \"../Rinnes_Utopia_files/Traducidos/1st/start01.tsv\"\n",
    "df_trans.to_csv(ruta_guardado, sep=\"\\t\", index=False)"
   ]
  },
  {
   "cell_type": "markdown",
   "id": "c098bf48",
   "metadata": {},
   "source": [
    "# END ------------------------------------------------------------"
   ]
  },
  {
   "cell_type": "code",
   "execution_count": 3,
   "id": "b2d40411",
   "metadata": {},
   "outputs": [
    {
     "data": {
      "text/html": [
       "<div>\n",
       "<style scoped>\n",
       "    .dataframe tbody tr th:only-of-type {\n",
       "        vertical-align: middle;\n",
       "    }\n",
       "\n",
       "    .dataframe tbody tr th {\n",
       "        vertical-align: top;\n",
       "    }\n",
       "\n",
       "    .dataframe thead th {\n",
       "        text-align: right;\n",
       "    }\n",
       "</style>\n",
       "<table border=\"1\" class=\"dataframe\">\n",
       "  <thead>\n",
       "    <tr style=\"text-align: right;\">\n",
       "      <th></th>\n",
       "      <th>Operator</th>\n",
       "      <th>Comment</th>\n",
       "      <th>Key</th>\n",
       "      <th>Translation</th>\n",
       "    </tr>\n",
       "  </thead>\n",
       "  <tbody>\n",
       "    <tr>\n",
       "      <th>0</th>\n",
       "      <td>Choice</td>\n",
       "      <td>NaN</td>\n",
       "      <td>Start from the prologue.</td>\n",
       "      <td>NaN</td>\n",
       "    </tr>\n",
       "    <tr>\n",
       "      <th>1</th>\n",
       "      <td>Choice</td>\n",
       "      <td>NaN</td>\n",
       "      <td>Skip the prologue.</td>\n",
       "      <td>NaN</td>\n",
       "    </tr>\n",
       "    <tr>\n",
       "      <th>2</th>\n",
       "      <td>Message</td>\n",
       "      <td>NaN</td>\n",
       "      <td>(The moment I opened the door to the rooftop,\\...</td>\n",
       "      <td>NaN</td>\n",
       "    </tr>\n",
       "    <tr>\n",
       "      <th>3</th>\n",
       "      <td>Message</td>\n",
       "      <td>Tohka</td>\n",
       "      <td>Sh-Shido...?!</td>\n",
       "      <td>NaN</td>\n",
       "    </tr>\n",
       "    <tr>\n",
       "      <th>4</th>\n",
       "      <td>Message</td>\n",
       "      <td>NaN</td>\n",
       "      <td>(I turned around, and there stood the girl I w...</td>\n",
       "      <td>NaN</td>\n",
       "    </tr>\n",
       "  </tbody>\n",
       "</table>\n",
       "</div>"
      ],
      "text/plain": [
       "  Operator Comment                                                Key  \\\n",
       "0   Choice     NaN                           Start from the prologue.   \n",
       "1   Choice     NaN                                 Skip the prologue.   \n",
       "2  Message     NaN  (The moment I opened the door to the rooftop,\\...   \n",
       "3  Message   Tohka                                      Sh-Shido...?!   \n",
       "4  Message     NaN  (I turned around, and there stood the girl I w...   \n",
       "\n",
       "   Translation  \n",
       "0          NaN  \n",
       "1          NaN  \n",
       "2          NaN  \n",
       "3          NaN  \n",
       "4          NaN  "
      ]
     },
     "execution_count": 3,
     "metadata": {},
     "output_type": "execute_result"
    }
   ],
   "source": [
    "df = pd.read_csv(\"../Rinnes_Utopia_files/Originales/1st/start01.tsv\", delimiter=\"\\t\")\n",
    "df.head()"
   ]
  },
  {
   "cell_type": "code",
   "execution_count": 6,
   "id": "e5bc6c85",
   "metadata": {},
   "outputs": [
    {
     "data": {
      "text/html": [
       "<div>\n",
       "<style scoped>\n",
       "    .dataframe tbody tr th:only-of-type {\n",
       "        vertical-align: middle;\n",
       "    }\n",
       "\n",
       "    .dataframe tbody tr th {\n",
       "        vertical-align: top;\n",
       "    }\n",
       "\n",
       "    .dataframe thead th {\n",
       "        text-align: right;\n",
       "    }\n",
       "</style>\n",
       "<table border=\"1\" class=\"dataframe\">\n",
       "  <thead>\n",
       "    <tr style=\"text-align: right;\">\n",
       "      <th></th>\n",
       "      <th>Operator</th>\n",
       "      <th>Comment</th>\n",
       "      <th>Key</th>\n",
       "      <th>Translation</th>\n",
       "    </tr>\n",
       "  </thead>\n",
       "  <tbody>\n",
       "    <tr>\n",
       "      <th>0</th>\n",
       "      <td>Choice</td>\n",
       "      <td>NaN</td>\n",
       "      <td>Start from the prologue.</td>\n",
       "      <td>NaN</td>\n",
       "    </tr>\n",
       "    <tr>\n",
       "      <th>1</th>\n",
       "      <td>Choice</td>\n",
       "      <td>NaN</td>\n",
       "      <td>Skip the prologue.</td>\n",
       "      <td>NaN</td>\n",
       "    </tr>\n",
       "    <tr>\n",
       "      <th>2</th>\n",
       "      <td>Message</td>\n",
       "      <td>NaN</td>\n",
       "      <td>(En el momento en que abrí la puerta de la azo...</td>\n",
       "      <td>NaN</td>\n",
       "    </tr>\n",
       "    <tr>\n",
       "      <th>3</th>\n",
       "      <td>Message</td>\n",
       "      <td>Tohka</td>\n",
       "      <td>¡¿Sh-Shido...?!</td>\n",
       "      <td>NaN</td>\n",
       "    </tr>\n",
       "    <tr>\n",
       "      <th>4</th>\n",
       "      <td>Message</td>\n",
       "      <td>NaN</td>\n",
       "      <td>(Me di la vuelta, y allí estaba la chica que e...</td>\n",
       "      <td>NaN</td>\n",
       "    </tr>\n",
       "  </tbody>\n",
       "</table>\n",
       "</div>"
      ],
      "text/plain": [
       "  Operator Comment                                                Key  \\\n",
       "0   Choice     NaN                           Start from the prologue.   \n",
       "1   Choice     NaN                                 Skip the prologue.   \n",
       "2  Message     NaN  (En el momento en que abrí la puerta de la azo...   \n",
       "3  Message   Tohka                                    ¡¿Sh-Shido...?!   \n",
       "4  Message     NaN  (Me di la vuelta, y allí estaba la chica que e...   \n",
       "\n",
       "   Translation  \n",
       "0          NaN  \n",
       "1          NaN  \n",
       "2          NaN  \n",
       "3          NaN  \n",
       "4          NaN  "
      ]
     },
     "execution_count": 6,
     "metadata": {},
     "output_type": "execute_result"
    }
   ],
   "source": [
    "df_trad = pd.read_csv(\"../Rinnes_Utopia_files/Traducidos/1st/start01.tsv\", delimiter=\"\\t\")\n",
    "df_trad.head()"
   ]
  },
  {
   "cell_type": "code",
   "execution_count": 9,
   "id": "9d0d3bd4",
   "metadata": {},
   "outputs": [],
   "source": [
    "Dialogos_Traducidos = df_trad[\"Key\"]"
   ]
  },
  {
   "cell_type": "code",
   "execution_count": 13,
   "id": "1cc781a7",
   "metadata": {},
   "outputs": [
    {
     "name": "stderr",
     "output_type": "stream",
     "text": [
      "C:\\Users\\Christian\\AppData\\Local\\Temp\\ipykernel_9152\\335883297.py:2: FutureWarning: Setting an item of incompatible dtype is deprecated and will raise in a future error of pandas. Value 'Start from the prologue.' has dtype incompatible with float64, please explicitly cast to a compatible dtype first.\n",
      "  df.iloc[i,3] = str(Dialogos_Traducidos[i])\n"
     ]
    },
    {
     "data": {
      "text/html": [
       "<div>\n",
       "<style scoped>\n",
       "    .dataframe tbody tr th:only-of-type {\n",
       "        vertical-align: middle;\n",
       "    }\n",
       "\n",
       "    .dataframe tbody tr th {\n",
       "        vertical-align: top;\n",
       "    }\n",
       "\n",
       "    .dataframe thead th {\n",
       "        text-align: right;\n",
       "    }\n",
       "</style>\n",
       "<table border=\"1\" class=\"dataframe\">\n",
       "  <thead>\n",
       "    <tr style=\"text-align: right;\">\n",
       "      <th></th>\n",
       "      <th>Operator</th>\n",
       "      <th>Comment</th>\n",
       "      <th>Key</th>\n",
       "      <th>Translation</th>\n",
       "    </tr>\n",
       "  </thead>\n",
       "  <tbody>\n",
       "    <tr>\n",
       "      <th>0</th>\n",
       "      <td>Choice</td>\n",
       "      <td>NaN</td>\n",
       "      <td>Start from the prologue.</td>\n",
       "      <td>Start from the prologue.</td>\n",
       "    </tr>\n",
       "    <tr>\n",
       "      <th>1</th>\n",
       "      <td>Choice</td>\n",
       "      <td>NaN</td>\n",
       "      <td>Skip the prologue.</td>\n",
       "      <td>Skip the prologue.</td>\n",
       "    </tr>\n",
       "    <tr>\n",
       "      <th>2</th>\n",
       "      <td>Message</td>\n",
       "      <td>NaN</td>\n",
       "      <td>(The moment I opened the door to the rooftop,\\...</td>\n",
       "      <td>(En el momento en que abrí la puerta de la azo...</td>\n",
       "    </tr>\n",
       "    <tr>\n",
       "      <th>3</th>\n",
       "      <td>Message</td>\n",
       "      <td>Tohka</td>\n",
       "      <td>Sh-Shido...?!</td>\n",
       "      <td>¡¿Sh-Shido...?!</td>\n",
       "    </tr>\n",
       "    <tr>\n",
       "      <th>4</th>\n",
       "      <td>Message</td>\n",
       "      <td>NaN</td>\n",
       "      <td>(I turned around, and there stood the girl I w...</td>\n",
       "      <td>(Me di la vuelta, y allí estaba la chica que e...</td>\n",
       "    </tr>\n",
       "  </tbody>\n",
       "</table>\n",
       "</div>"
      ],
      "text/plain": [
       "  Operator Comment                                                Key  \\\n",
       "0   Choice     NaN                           Start from the prologue.   \n",
       "1   Choice     NaN                                 Skip the prologue.   \n",
       "2  Message     NaN  (The moment I opened the door to the rooftop,\\...   \n",
       "3  Message   Tohka                                      Sh-Shido...?!   \n",
       "4  Message     NaN  (I turned around, and there stood the girl I w...   \n",
       "\n",
       "                                         Translation  \n",
       "0                           Start from the prologue.  \n",
       "1                                 Skip the prologue.  \n",
       "2  (En el momento en que abrí la puerta de la azo...  \n",
       "3                                    ¡¿Sh-Shido...?!  \n",
       "4  (Me di la vuelta, y allí estaba la chica que e...  "
      ]
     },
     "execution_count": 13,
     "metadata": {},
     "output_type": "execute_result"
    }
   ],
   "source": [
    "for i in range(0,len(Dialogos_Traducidos)):\n",
    "    df.iloc[i,3] = str(Dialogos_Traducidos[i])\n",
    "df.head()"
   ]
  },
  {
   "cell_type": "code",
   "execution_count": 14,
   "id": "e5957d44",
   "metadata": {},
   "outputs": [],
   "source": [
    "ruta_guardado = \"../Rinnes_Utopia_files/Traducidos/1st/start01.tsv\"\n",
    "df.to_csv(ruta_guardado, sep=\"\\t\", index=False)"
   ]
  },
  {
   "cell_type": "code",
   "execution_count": null,
   "id": "68ce23eb",
   "metadata": {},
   "outputs": [],
   "source": []
  }
 ],
 "metadata": {
  "kernelspec": {
   "display_name": "env",
   "language": "python",
   "name": "env"
  },
  "language_info": {
   "codemirror_mode": {
    "name": "ipython",
    "version": 3
   },
   "file_extension": ".py",
   "mimetype": "text/x-python",
   "name": "python",
   "nbconvert_exporter": "python",
   "pygments_lexer": "ipython3",
   "version": "3.11.5"
  }
 },
 "nbformat": 4,
 "nbformat_minor": 5
}
